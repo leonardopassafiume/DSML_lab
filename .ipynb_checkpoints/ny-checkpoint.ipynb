{
 "cells": [
  {
   "cell_type": "code",
   "execution_count": 2,
   "id": "a75bb303-b5ac-4da6-8131-93e3a5882759",
   "metadata": {},
   "outputs": [],
   "source": [
    "import numpy as np\n",
    "import pandas as pd\n",
    "import matplotlib.pyplot as plt\n",
    "%matplotlib inline\n",
    "\n",
    "pd.options.display.max_rows = 10"
   ]
  },
  {
   "cell_type": "code",
   "execution_count": 3,
   "id": "9136f830-bb3f-40ec-9759-ea33621408ad",
   "metadata": {},
   "outputs": [],
   "source": [
    "plt.rcParams[\"figure.figsize\"] = (12, 6)"
   ]
  },
  {
   "cell_type": "code",
   "execution_count": 25,
   "id": "a5259c4e-c780-4971-8f0d-df7c152bf27d",
   "metadata": {},
   "outputs": [
    {
     "data": {
      "text/plain": [
       "@type                   0\n",
       "@lat                    0\n",
       "@lon                    0\n",
       "amenity             28838\n",
       "name                23000\n",
       "shop                44833\n",
       "public_transport    45174\n",
       "highway             45991\n",
       "dtype: int64"
      ]
     },
     "execution_count": 25,
     "metadata": {},
     "output_type": "execute_result"
    }
   ],
   "source": [
    "ny_pois_ids = np.loadtxt(\"ny_municipality_pois_id.csv\")\n",
    "\n",
    "# This dictionary maps attributes in the table with correct data types\n",
    "d_types = {'@type':str, '@lat':float, '@lon':float, 'amenity':str, 'name':str, \n",
    "           'shop':str, 'public_transport':str, 'highway':str}\n",
    "all_pois_df = pd.read_csv(\"pois_all_info\", sep='\\t', index_col='@id', dtype=d_types)\n",
    "\n",
    "pois_df = all_pois_df.loc[ny_pois_ids]\n",
    "pois_df.isna().sum()"
   ]
  },
  {
   "cell_type": "code",
   "execution_count": null,
   "id": "c6a835ca-9d3d-4846-961a-c10bd9d7ac42",
   "metadata": {},
   "outputs": [],
   "source": []
  }
 ],
 "metadata": {
  "kernelspec": {
   "display_name": "Python 3 (ipykernel)",
   "language": "python",
   "name": "python3"
  },
  "language_info": {
   "codemirror_mode": {
    "name": "ipython",
    "version": 3
   },
   "file_extension": ".py",
   "mimetype": "text/x-python",
   "name": "python",
   "nbconvert_exporter": "python",
   "pygments_lexer": "ipython3",
   "version": "3.13.7"
  }
 },
 "nbformat": 4,
 "nbformat_minor": 5
}
