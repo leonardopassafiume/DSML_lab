{
 "cells": [
  {
   "cell_type": "code",
   "execution_count": 18,
   "id": "dcad1c65-247a-4201-a47d-4b5546bd4cca",
   "metadata": {},
   "outputs": [],
   "source": [
    "import numpy as np\n",
    "\n"
   ]
  },
  {
   "cell_type": "code",
   "execution_count": 20,
   "id": "ffb28ef5-812e-4334-8faa-afb5084742d3",
   "metadata": {
    "scrolled": true
   },
   "outputs": [
    {
     "data": {
      "text/plain": [
       "np.float64(1323758.9999477856)"
      ]
     },
     "execution_count": 20,
     "metadata": {},
     "output_type": "execute_result"
    }
   ],
   "source": [
    "n = 2 \n",
    "N = 11\n",
    "\n",
    "A = np.array([[0.835, 0.667],[0.333, 0.266]])\n",
    "b_star = np.array([0.168, 0.067])\n",
    "\n",
    "B = []\n",
    "\n",
    "for i in range(0,N):\n",
    "    B.append(b_star - 0.001 + (i - 1) * 0.0002)\n",
    "\n",
    "X = []\n",
    "\n",
    "for i in range (0,N):\n",
    "    X.append(np.linalg.solve(A,B[i]))\n",
    "\n",
    "normres = []\n",
    "\n",
    "for i in range (0,N):\n",
    "    normres.append(np.linalg.norm(A * X[i] - B[i]))\n",
    "\n",
    "np.linalg.cond(A)"
   ]
  },
  {
   "cell_type": "code",
   "execution_count": 69,
   "id": "af09c621-b1dd-4ed9-ac05-6ac241343d9b",
   "metadata": {},
   "outputs": [
    {
     "name": "stdout",
     "output_type": "stream",
     "text": [
      " the solution is : [1. 1. 1. 1. 1.]\n",
      "the solution is:  [9.59485374 1.68164885 6.36742001 2.64373811 5.02913529]\n"
     ]
    },
    {
     "data": {
      "text/plain": [
       "[array([-0.14572898,  3.35642506,  1.08995417, -0.28158098,  1.42562896]),\n",
       " array([1.96101906, 0.06466138, 1.23193446, 2.31342478, 0.82426895]),\n",
       " array([-0.11116145,  1.68517699,  1.55276769,  1.80889757,  1.27750391]),\n",
       " array([-4.87615178,  7.09540327,  5.89571382, -1.74589826,  0.17067691]),\n",
       " array([-3.56263901,  4.8364547 ,  4.50426062, -0.29231967,  0.84621836]),\n",
       " array([-0.00535572,  1.48064366,  2.13196126,  1.06701892,  1.49068928]),\n",
       " array([0.99969917, 0.98388834, 1.88915653, 0.9561588 , 1.53317485]),\n",
       " array([-0.15480973,  1.79255604,  2.6738093 ,  1.35391119,  0.35830619]),\n",
       " array([-1.11475062,  3.42702856,  3.76827012,  0.067883  ,  0.66637481]),\n",
       " array([-1.38606731,  4.60948715,  3.32909029, -1.04333647,  0.42723435])]"
      ]
     },
     "execution_count": 69,
     "metadata": {},
     "output_type": "execute_result"
    }
   ],
   "source": [
    "\n",
    "np.random.seed(1)\n",
    "n = 5\n",
    "N = 10\n",
    "\n",
    "\n",
    "A = np.random.rand(n,n)\n",
    "\n",
    "e = np.ones(n)\n",
    "b = np.matmul(A,e)\n",
    "\n",
    "B = np.zeros((N,n))\n",
    "\n",
    "epsilon\n",
    "\n",
    "for i in range(0,N):\n",
    "    epsilon = np.random.rand(n)\n",
    "    B[i] = b + epsilon\n",
    "\n",
    "d = np.random.rand(n)\n",
    "D = np.diag(d)\n",
    "\n",
    "print(f' the solution is :', np.linalg.solve(A,b))\n",
    "print(f'the solution is: ', np.linalg.solve(D,b))\n",
    "\n",
    "X = []\n",
    "for i in range(0,N):\n",
    "    X.append(np.linalg.solve(A,B[i]))\n",
    "\n",
    "\n",
    "X"
   ]
  },
  {
   "cell_type": "code",
   "execution_count": 51,
   "id": "a53aef77-9018-46ad-9ede-49b7ffb7186a",
   "metadata": {},
   "outputs": [
    {
     "data": {
      "text/plain": [
       "5"
      ]
     },
     "execution_count": 51,
     "metadata": {},
     "output_type": "execute_result"
    }
   ],
   "source": [
    "np.size(b)"
   ]
  }
 ],
 "metadata": {
  "kernelspec": {
   "display_name": "Python 3 (ipykernel)",
   "language": "python",
   "name": "python3"
  },
  "language_info": {
   "codemirror_mode": {
    "name": "ipython",
    "version": 3
   },
   "file_extension": ".py",
   "mimetype": "text/x-python",
   "name": "python",
   "nbconvert_exporter": "python",
   "pygments_lexer": "ipython3",
   "version": "3.13.7"
  }
 },
 "nbformat": 4,
 "nbformat_minor": 5
}
