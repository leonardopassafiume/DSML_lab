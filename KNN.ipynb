{
 "cells": [
  {
   "cell_type": "code",
   "execution_count": 1,
   "id": "e778c7ed-ecfc-4bb6-b307-c08bb8f41255",
   "metadata": {},
   "outputs": [],
   "source": [
    "import pandas as pd\n",
    "import numpy as np\n",
    "\n",
    "df = pd.read_csv(\n",
    "    \"iris.csv\",\n",
    "    header=None\n",
    ")\n"
   ]
  },
  {
   "cell_type": "code",
   "execution_count": 2,
   "id": "7bb79016-25bc-4d69-9542-3faefbf494f3",
   "metadata": {},
   "outputs": [],
   "source": [
    "# shuffle of the rows of the df\n",
    "df = df.sample(frac=1, random_state=42).reset_index(drop=True)\n",
    "\n",
    "#define the split index\n",
    "split_index = int(0.8 * len(df))\n",
    "\n",
    "# split the data\n",
    "train_df = df.iloc[:split_index]\n",
    "test_df = df.iloc[split_index:]\n",
    "\n",
    "X_test = test_df.iloc[:, :-1]\n",
    "y_test = test_df.iloc[:, -1]\n",
    "X_train = train_df.iloc[:, :-1]\n",
    "y_train = train_df.iloc[:, -1]\n",
    "\n"
   ]
  },
  {
   "cell_type": "code",
   "execution_count": 63,
   "id": "9e64a38e-364d-46bb-9171-d00d03d9945f",
   "metadata": {},
   "outputs": [],
   "source": [
    "class KNearestNeighbours:\n",
    "    def __init__ (self, k, distance_metric = \"euclidean\"):\n",
    "        self.k = k\n",
    "        self.distance_metric = distance_metric\n",
    "        self.X_train = None\n",
    "        self.Y_train = None\n",
    "\n",
    "    def fit(self, X, y):\n",
    "        self.X_train = X \n",
    "        self.y_train = y\n",
    "    \n",
    "\n",
    "    def euclidean_mio(self, A, B): \n",
    "        dist_matrix = np.zeros((len(A),len(B)))\n",
    "        for i in range(0,len(A)):\n",
    "            for j in range(0,len(B)):\n",
    "                dist_matrix[i,j] = np.sqrt(np.sum((A.iloc[i,:] - B.iloc[j,:])**2))\n",
    "        \n",
    "        return dist_matrix\n",
    "\n",
    "        \n",
    "    def euclidean(self, A, B):\n",
    "        A = A.to_numpy()\n",
    "        B = B.to_numpy()\n",
    "            \n",
    "        dist_matrix = np.sqrt(((A[:, np.newaxis, :] - B[np.newaxis, :, :]) ** 2).sum(axis=2))\n",
    "        dm = pd.DataFrame(dist_matrix)\n",
    "        return dm\n",
    "\n",
    "\n",
    "  #  def _cosine(self, A, B):\n",
    " #       dist = 1 - np.abs(np.dot(A, B)/(np.linalg.norm(A) * np.linalg.norm(B)))\n",
    "  #  return dist\n",
    "    \n",
    "\n",
    "   # def _manhattan(self, p, q):\n",
    "     #   dist = np.sum(np.abs(A - B))\n",
    "    #return dist\n",
    "    \n",
    "    \n",
    "    def predict(self, X):\n",
    "        \"\"\"Run the KNN classification on X.\n",
    "        :param X: input data points, ndarray, shape = (N, C).\n",
    "        :return: labels: ndarray, shape = (N,).\n",
    "        \"\"\"\n",
    "        return X.iloc[0]  # TODO: implement it!\n",
    "\n",
    "    \n",
    "\n"
   ]
  },
  {
   "cell_type": "code",
   "execution_count": 73,
   "id": "4a5d8391-ed3c-4fe0-bda0-1f1ce2b4157c",
   "metadata": {},
   "outputs": [
    {
     "data": {
      "text/plain": [
       "(5, 30)"
      ]
     },
     "execution_count": 73,
     "metadata": {},
     "output_type": "execute_result"
    }
   ],
   "source": [
    "knn = KNearestNeighbours(5)\n",
    "dm = knn.euclidean(X_train, X_test)\n",
    "dm_k = dm.iloc[ :knn.k ,:]\n",
    "\n",
    "dm_k.iloc["
   ]
  }
 ],
 "metadata": {
  "kernelspec": {
   "display_name": "Python 3 (ipykernel)",
   "language": "python",
   "name": "python3"
  },
  "language_info": {
   "codemirror_mode": {
    "name": "ipython",
    "version": 3
   },
   "file_extension": ".py",
   "mimetype": "text/x-python",
   "name": "python",
   "nbconvert_exporter": "python",
   "pygments_lexer": "ipython3",
   "version": "3.13.7"
  }
 },
 "nbformat": 4,
 "nbformat_minor": 5
}
