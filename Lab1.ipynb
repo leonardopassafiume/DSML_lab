{
 "cells": [
  {
   "cell_type": "code",
   "execution_count": 8,
   "id": "f98426ae-40b9-4c22-9724-260bb24733b1",
   "metadata": {},
   "outputs": [],
   "source": [
    "import numpy as np\n",
    "x = np.array([[1, 2, 3],[1, 2, 3]])\n",
    "\n"
   ]
  },
  {
   "cell_type": "code",
   "execution_count": 34,
   "id": "25dd4a89-d410-45f2-af91-07e8420e8234",
   "metadata": {},
   "outputs": [
    {
     "name": "stdout",
     "output_type": "stream",
     "text": [
      "ndim:  2\n",
      "shape:  (2, 3)\n",
      "size:  6\n",
      "dtype:  int64\n"
     ]
    }
   ],
   "source": [
    "print('ndim: ', x.ndim)\n",
    "print('shape: ', x.shape)\n",
    "print('size: ', x.size)\n",
    "print('dtype: ', x.dtype)\n"
   ]
  },
  {
   "cell_type": "code",
   "execution_count": 76,
   "id": "9e135c0e-3365-4442-8d07-19482a769f5c",
   "metadata": {},
   "outputs": [
    {
     "name": "stdout",
     "output_type": "stream",
     "text": [
      "[[ 1  2  3  4]\n",
      " [ 5  6  7  8]\n",
      " [ 9 10 11 12]]\n"
     ]
    }
   ],
   "source": [
    "A = np.arange(1,13).reshape(3,4)\n",
    "print(A)\n"
   ]
  },
  {
   "cell_type": "code",
   "execution_count": 77,
   "id": "cd19fb35-c33d-4461-939e-bf8fcbabc117",
   "metadata": {},
   "outputs": [
    {
     "data": {
      "text/plain": [
       "array([[1, 2],\n",
       "       [5, 6]])"
      ]
     },
     "execution_count": 77,
     "metadata": {},
     "output_type": "execute_result"
    }
   ],
   "source": [
    "A[:2,:2]"
   ]
  },
  {
   "cell_type": "code",
   "execution_count": 78,
   "id": "2cc7c2f5-9d60-4c0e-b9b5-0184ee6b868f",
   "metadata": {},
   "outputs": [
    {
     "data": {
      "text/plain": [
       "array([[ 3,  4],\n",
       "       [ 7,  8],\n",
       "       [11, 12]])"
      ]
     },
     "execution_count": 78,
     "metadata": {},
     "output_type": "execute_result"
    }
   ],
   "source": [
    "A[:,2:]"
   ]
  },
  {
   "cell_type": "code",
   "execution_count": 79,
   "id": "b5bad0b7-2ac4-40c3-9ca0-582dda44b7fb",
   "metadata": {},
   "outputs": [
    {
     "data": {
      "text/plain": [
       "array([[ 1,  2,  3,  4],\n",
       "       [ 5,  6, -1, -1],\n",
       "       [-1, -1, -1, -1]])"
      ]
     },
     "execution_count": 79,
     "metadata": {},
     "output_type": "execute_result"
    }
   ],
   "source": [
    "A[A > 6] = -1\n",
    "A"
   ]
  },
  {
   "cell_type": "code",
   "execution_count": 38,
   "id": "c29ea795-69e0-44b6-ad22-cac68d82e636",
   "metadata": {},
   "outputs": [],
   "source": [
    "X = np.genfromtxt('iris.csv', delimiter=',', usecols=(0, 1, 2, 3), dtype=float)\n",
    "y = np.genfromtxt('iris.csv', delimiter=',', usecols=4, dtype=str)\n"
   ]
  },
  {
   "cell_type": "code",
   "execution_count": 44,
   "id": "de7975a4-9421-4a5a-8aa0-fbcc36abe58a",
   "metadata": {},
   "outputs": [
    {
     "name": "stdout",
     "output_type": "stream",
     "text": [
      "data types of X:  float64\n",
      "data types of y:  <U15\n",
      "shape of X:  (150, 4)\n",
      "shape of y:  (150,)\n"
     ]
    }
   ],
   "source": [
    "print('data types of X: ', X.dtype)\n",
    "print('data types of y: ', y.dtype)\n",
    "print('shape of X: ', X.shape)\n",
    "print('shape of y: ', y.shape)\n"
   ]
  },
  {
   "cell_type": "code",
   "execution_count": 84,
   "id": "8c925a1b-e879-4e54-b103-6000dadb1e71",
   "metadata": {},
   "outputs": [
    {
     "name": "stdout",
     "output_type": "stream",
     "text": [
      "['sepal length', 'sepal width', 'petal length', 'petal width']\n",
      "[5.84333333 3.054      3.75866667 1.19866667]\n",
      "[0.82530129 0.43214658 1.75852918 0.76061262]\n"
     ]
    }
   ],
   "source": [
    "mu = X.mean(axis=0)\n",
    "std = X.std(axis=0)\n",
    "features = ['sepal length', 'sepal width', 'petal length', 'petal width']\n",
    "print(features)\n",
    "print(mu)\n",
    "print(std)"
   ]
  },
  {
   "cell_type": "code",
   "execution_count": 88,
   "id": "3b969a4b-7a74-4f14-86b1-15306cf0fb14",
   "metadata": {},
   "outputs": [
    {
     "name": "stdout",
     "output_type": "stream",
     "text": [
      " Mean values for Iris-setosa:\n",
      "  • Sepal length: 5.01\n",
      "  • Sepal width: 3.42\n",
      "  • Petal length: 1.46\n",
      "  • Petal width: 0.24\n",
      " Mean values for Iris-versicolor:\n",
      "  • Sepal length: 5.94\n",
      "  • Sepal width: 2.77\n",
      "  • Petal length: 4.26\n",
      "  • Petal width: 1.33\n",
      " Mean values for Iris-virginica:\n",
      "  • Sepal length: 6.59\n",
      "  • Sepal width: 2.97\n",
      "  • Petal length: 5.55\n",
      "  • Petal width: 2.03\n",
      " Std values for Iris-setosa:\n",
      " • Sepal length: 0.35\n",
      " • Sepal width: 0.38\n",
      " • Petal length: 0.17\n",
      " • Petal width: 0.11\n",
      " Std values for Iris-versicolor:\n",
      " • Sepal length: 0.51\n",
      " • Sepal width: 0.31\n",
      " • Petal length: 0.47\n",
      " • Petal width: 0.20\n",
      " Std values for Iris-virginica:\n",
      " • Sepal length: 0.63\n",
      " • Sepal width: 0.32\n",
      " • Petal length: 0.55\n",
      " • Petal width: 0.27\n"
     ]
    }
   ],
   "source": [
    "species = np.unique(y)\n",
    "features = ['sepal length', 'sepal width', 'petal length', 'petal width']\n",
    "\n",
    "for s in species:\n",
    "    means = X[y == s].mean(axis=0)\n",
    "    print(f\" Mean values for {s}:\")\n",
    "    for f, m in zip(features, means):\n",
    "        print(f\"  • {f.capitalize()}: {m:.2f}\")\n",
    "\n",
    "for s in species:\n",
    "    stds = X[y == s].std(axis=0)\n",
    "    print(f\" Std values for {s}:\")\n",
    "    for f,s in zip(features, stds):\n",
    "        print(f\" • {f.capitalize()}: {s:.2f}\")"
   ]
  },
  {
   "cell_type": "code",
   "execution_count": 75,
   "id": "d3000cb1-6db8-423e-a73b-cdbbd14e4f96",
   "metadata": {},
   "outputs": [],
   "source": [
    "Z = (X - X.mean(axis=0)) / X.std(axis=0)\n",
    "m = Z.mean(axis=0)\n",
    "std = Z.std(axis=0)"
   ]
  },
  {
   "cell_type": "code",
   "execution_count": null,
   "id": "9819cba4-0e53-4af4-8a58-a5ea373afe81",
   "metadata": {},
   "outputs": [],
   "source": []
  }
 ],
 "metadata": {
  "kernelspec": {
   "display_name": "Python 3 (ipykernel)",
   "language": "python",
   "name": "python3"
  },
  "language_info": {
   "codemirror_mode": {
    "name": "ipython",
    "version": 3
   },
   "file_extension": ".py",
   "mimetype": "text/x-python",
   "name": "python",
   "nbconvert_exporter": "python",
   "pygments_lexer": "ipython3",
   "version": "3.13.7"
  }
 },
 "nbformat": 4,
 "nbformat_minor": 5
}
